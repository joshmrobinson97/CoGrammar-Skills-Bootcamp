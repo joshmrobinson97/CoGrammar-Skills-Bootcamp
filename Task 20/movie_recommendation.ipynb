{
 "cells": [
  {
   "cell_type": "markdown",
   "metadata": {},
   "source": [
    "# movie recommendations psuedo code\n",
    "import pandas to have txt file for movies read  \n",
    "create dictionary for movie txt file  \n",
    "load the medium english language model  \n",
    "create a variable for the watched movie and make nlp for the description  \n",
    "create an empty list to have the similarity scores concatenated to  \n",
    "loop for descriptions in movie list dataframe for similarities  \n",
    "append to a new dictionary with movies  \n",
    "return the max value in a string  "
   ]
  },
  {
   "cell_type": "code",
   "execution_count": 125,
   "metadata": {},
   "outputs": [],
   "source": [
    "import pandas as pd\n",
    "import spacy"
   ]
  },
  {
   "cell_type": "code",
   "execution_count": 126,
   "metadata": {},
   "outputs": [],
   "source": [
    "nlp = spacy.load('en_core_web_md')"
   ]
  },
  {
   "cell_type": "code",
   "execution_count": 127,
   "metadata": {},
   "outputs": [],
   "source": [
    "planet_hulk = \"Will he save their world or destroy it? When the Hulk becomes too dangerous for the Earth, the Illunimati tricks Hulk into a shuttle and launch him into space to a planet where the Hulk can live in peace. Unfortunately, Hulk lands on the planet Sakaar where he is sold into slavery and trained as a gladiator.\"\n",
    "movie = 'movies.txt'"
   ]
  },
  {
   "cell_type": "code",
   "execution_count": 128,
   "metadata": {},
   "outputs": [],
   "source": [
    "df = pd.read_csv(movie, sep=':', header=None, names=['key', 'value'])\n"
   ]
  },
  {
   "cell_type": "code",
   "execution_count": 129,
   "metadata": {},
   "outputs": [],
   "source": [
    "# perform NLP on the watched movie description\n",
    "description_to_compare = nlp(planet_hulk)"
   ]
  },
  {
   "cell_type": "code",
   "execution_count": 130,
   "metadata": {},
   "outputs": [
    {
     "data": {
      "text/html": [
       "<div>\n",
       "<style scoped>\n",
       "    .dataframe tbody tr th:only-of-type {\n",
       "        vertical-align: middle;\n",
       "    }\n",
       "\n",
       "    .dataframe tbody tr th {\n",
       "        vertical-align: top;\n",
       "    }\n",
       "\n",
       "    .dataframe thead th {\n",
       "        text-align: right;\n",
       "    }\n",
       "</style>\n",
       "<table border=\"1\" class=\"dataframe\">\n",
       "  <thead>\n",
       "    <tr style=\"text-align: right;\">\n",
       "      <th></th>\n",
       "      <th>key</th>\n",
       "      <th>value</th>\n",
       "    </tr>\n",
       "  </thead>\n",
       "  <tbody>\n",
       "    <tr>\n",
       "      <th>0</th>\n",
       "      <td>Movie A</td>\n",
       "      <td>When Hiccup discovers Toothless isn't the only...</td>\n",
       "    </tr>\n",
       "    <tr>\n",
       "      <th>1</th>\n",
       "      <td>Movie B</td>\n",
       "      <td>After the death of Superman, several new peopl...</td>\n",
       "    </tr>\n",
       "    <tr>\n",
       "      <th>2</th>\n",
       "      <td>Movie C</td>\n",
       "      <td>A darkness swirls at the center of a world-ren...</td>\n",
       "    </tr>\n",
       "    <tr>\n",
       "      <th>3</th>\n",
       "      <td>Movie D</td>\n",
       "      <td>A humorous take on Sir Arthur Conan Doyle's cl...</td>\n",
       "    </tr>\n",
       "    <tr>\n",
       "      <th>4</th>\n",
       "      <td>Movie E</td>\n",
       "      <td>A 16-year-old girl and her extended family are...</td>\n",
       "    </tr>\n",
       "  </tbody>\n",
       "</table>\n",
       "</div>"
      ],
      "text/plain": [
       "        key                                              value\n",
       "0  Movie A   When Hiccup discovers Toothless isn't the only...\n",
       "1  Movie B   After the death of Superman, several new peopl...\n",
       "2  Movie C   A darkness swirls at the center of a world-ren...\n",
       "3  Movie D   A humorous take on Sir Arthur Conan Doyle's cl...\n",
       "4  Movie E   A 16-year-old girl and her extended family are..."
      ]
     },
     "execution_count": 130,
     "metadata": {},
     "output_type": "execute_result"
    }
   ],
   "source": [
    "# Checks to ensure df imported\n",
    "df.head()"
   ]
  },
  {
   "cell_type": "code",
   "execution_count": 131,
   "metadata": {},
   "outputs": [],
   "source": [
    "# An empty list to concatenate the looped similarity values to\n",
    "similarity_values = []"
   ]
  },
  {
   "cell_type": "code",
   "execution_count": 132,
   "metadata": {},
   "outputs": [],
   "source": [
    "for index, row in df.iterrows():\n",
    "    similarity = description_to_compare.similarity(nlp(row['value']))\n",
    "    # print(f\"{row['key']}. Similarity: {similarity}.\\n\")\n",
    "    similarity_values.append(similarity) # Adds the values to the dataframe\n",
    "df['similarity'] = similarity_values # names the new column \"similarity\""
   ]
  },
  {
   "cell_type": "code",
   "execution_count": 133,
   "metadata": {},
   "outputs": [
    {
     "data": {
      "text/html": [
       "<div>\n",
       "<style scoped>\n",
       "    .dataframe tbody tr th:only-of-type {\n",
       "        vertical-align: middle;\n",
       "    }\n",
       "\n",
       "    .dataframe tbody tr th {\n",
       "        vertical-align: top;\n",
       "    }\n",
       "\n",
       "    .dataframe thead th {\n",
       "        text-align: right;\n",
       "    }\n",
       "</style>\n",
       "<table border=\"1\" class=\"dataframe\">\n",
       "  <thead>\n",
       "    <tr style=\"text-align: right;\">\n",
       "      <th></th>\n",
       "      <th>key</th>\n",
       "      <th>value</th>\n",
       "      <th>similarity</th>\n",
       "    </tr>\n",
       "  </thead>\n",
       "  <tbody>\n",
       "    <tr>\n",
       "      <th>0</th>\n",
       "      <td>Movie A</td>\n",
       "      <td>When Hiccup discovers Toothless isn't the only...</td>\n",
       "      <td>0.837600</td>\n",
       "    </tr>\n",
       "    <tr>\n",
       "      <th>1</th>\n",
       "      <td>Movie B</td>\n",
       "      <td>After the death of Superman, several new peopl...</td>\n",
       "      <td>0.838418</td>\n",
       "    </tr>\n",
       "    <tr>\n",
       "      <th>2</th>\n",
       "      <td>Movie C</td>\n",
       "      <td>A darkness swirls at the center of a world-ren...</td>\n",
       "      <td>0.907623</td>\n",
       "    </tr>\n",
       "    <tr>\n",
       "      <th>3</th>\n",
       "      <td>Movie D</td>\n",
       "      <td>A humorous take on Sir Arthur Conan Doyle's cl...</td>\n",
       "      <td>0.541554</td>\n",
       "    </tr>\n",
       "    <tr>\n",
       "      <th>4</th>\n",
       "      <td>Movie E</td>\n",
       "      <td>A 16-year-old girl and her extended family are...</td>\n",
       "      <td>0.724891</td>\n",
       "    </tr>\n",
       "  </tbody>\n",
       "</table>\n",
       "</div>"
      ],
      "text/plain": [
       "        key                                              value  similarity\n",
       "0  Movie A   When Hiccup discovers Toothless isn't the only...    0.837600\n",
       "1  Movie B   After the death of Superman, several new peopl...    0.838418\n",
       "2  Movie C   A darkness swirls at the center of a world-ren...    0.907623\n",
       "3  Movie D   A humorous take on Sir Arthur Conan Doyle's cl...    0.541554\n",
       "4  Movie E   A 16-year-old girl and her extended family are...    0.724891"
      ]
     },
     "execution_count": 133,
     "metadata": {},
     "output_type": "execute_result"
    }
   ],
   "source": [
    "# Check to see whether the numbers are correctly added\n",
    "df.head()"
   ]
  },
  {
   "cell_type": "code",
   "execution_count": 136,
   "metadata": {},
   "outputs": [
    {
     "name": "stdout",
     "output_type": "stream",
     "text": [
      "You've Enjoyed Planet Hulk, would you like to watch Movie C ?\n"
     ]
    }
   ],
   "source": [
    "max_similarity_index = df['similarity'].idxmax() # Finds out the index location for the max value\n",
    "print(f\"You've Enjoyed Planet Hulk, would you like to watch {df.loc[max_similarity_index, 'key']}?\") # Uses the index to find the corresponding movie "
   ]
  }
 ],
 "metadata": {
  "kernelspec": {
   "display_name": "Python 3",
   "language": "python",
   "name": "python3"
  },
  "language_info": {
   "codemirror_mode": {
    "name": "ipython",
    "version": 3
   },
   "file_extension": ".py",
   "mimetype": "text/x-python",
   "name": "python",
   "nbconvert_exporter": "python",
   "pygments_lexer": "ipython3",
   "version": "3.12.1"
  }
 },
 "nbformat": 4,
 "nbformat_minor": 2
}
